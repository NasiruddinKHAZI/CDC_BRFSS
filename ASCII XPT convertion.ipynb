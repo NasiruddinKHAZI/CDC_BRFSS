{
 "cells": [
  {
   "cell_type": "code",
   "execution_count": 1,
   "id": "6dbd545a",
   "metadata": {},
   "outputs": [],
   "source": [
    "import csv\n",
    "\n",
    "# Define the input .asc file and output .csv file\n",
    "input_asc_file = 'C:/Users/khazi/Downloads/LLCP2021.ASC'\n",
    "\n"
   ]
  },
  {
   "cell_type": "code",
   "execution_count": null,
   "id": "657ad0b8",
   "metadata": {},
   "outputs": [],
   "source": []
  },
  {
   "cell_type": "code",
   "execution_count": 8,
   "id": "067b2628",
   "metadata": {},
   "outputs": [
    {
     "name": "stdout",
     "output_type": "stream",
     "text": [
      "C:/Users/khazi/Downloads/LLCP2021.ASC has been converted to C:/Users/khazi/Downloads/asc csv.csv.\n"
     ]
    }
   ],
   "source": [
    "output_csv_file = 'C:/Users/khazi/Downloads/asc csv.csv'\n",
    "\n",
    "# Specify the delimiter used in the .asc file (e.g., space, tab, comma)\n",
    "delimiter = ' '  # Change this to the appropriate delimiter\n",
    "\n",
    "# Open the .asc file for reading and the .csv file for writing\n",
    "with open(input_asc_file, 'r') as ascfile, open(output_csv_file, 'w', newline='') as csvfile:\n",
    "    # Create a CSV writer with the specified delimiter\n",
    "    csvwriter = csv.writer(csvfile, delimiter=delimiter)\n",
    "\n",
    "    # Iterate through each line in the .asc file\n",
    "    for line in ascfile:\n",
    "        # Split the line into a list using the specified delimiter\n",
    "        row = line.strip().split(delimiter)\n",
    "\n",
    "        # Write the row to the CSV file\n",
    "        csvwriter.writerow(row)\n",
    "\n",
    "print(f'{input_asc_file} has been converted to {output_csv_file}.')"
   ]
  },
  {
   "cell_type": "code",
   "execution_count": null,
   "id": "7dee014b",
   "metadata": {},
   "outputs": [],
   "source": []
  },
  {
   "cell_type": "code",
   "execution_count": 18,
   "id": "c5ec3a43",
   "metadata": {},
   "outputs": [
    {
     "name": "stdout",
     "output_type": "stream",
     "text": [
      "  01              0101192021     11002021000001                 11 121 02 01012             2         52010880312223 21122211221223  1222108                                    141        111278805 007204112222211333888      10920200112      10155520420320110123                                                                                                              2         22222111111153                                                                                                                                                                                                                                                                      1001                                                                                                                                                                                                                                                                                                                                                                                                                                                                                                                                                                                                                                                                                                                                                                      11     101101139.7661577                             279.5323155     01         9                                                                                                                                                                                                       10.51901912874.242902                                                744.745531                                                                                                                                          2321921122221121                                                        0101  211112112706059150032661454111233112000100000111200000100005700430014010000110001000002141111001\n",
      "0  01              0101212021     11002021000002 ...                                                                                                                                                                                                                                                                                                                                                                                                                                                                                                                                                                                                                                                                                                                                                                                                                                                                                                                                                                                                                                                                                                                                                                                                                                                                                                                                                                                                                                                                                                                                                                                                                                                                                                                                                                                                                                                                                                                                                                                                                                                                                                      \n",
      "1  01              0101212021     11002021000003 ...                                                                                                                                                                                                                                                                                                                                                                                                                                                                                                                                                                                                                                                                                                                                                                                                                                                                                                                                                                                                                                                                                                                                                                                                                                                                                                                                                                                                                                                                                                                                                                                                                                                                                                                                                                                                                                                                                                                                                                                                                                                                                                      \n",
      "2  01              0101172021     11002021000004 ...                                                                                                                                                                                                                                                                                                                                                                                                                                                                                                                                                                                                                                                                                                                                                                                                                                                                                                                                                                                                                                                                                                                                                                                                                                                                                                                                                                                                                                                                                                                                                                                                                                                                                                                                                                                                                                                                                                                                                                                                                                                                                                      \n",
      "3  01              0101152021     11002021000005 ...                                                                                                                                                                                                                                                                                                                                                                                                                                                                                                                                                                                                                                                                                                                                                                                                                                                                                                                                                                                                                                                                                                                                                                                                                                                                                                                                                                                                                                                                                                                                                                                                                                                                                                                                                                                                                                                                                                                                                                                                                                                                                                      \n",
      "4  01              0101142021     11002021000006 ...                                                                                                                                                                                                                                                                                                                                                                                                                                                                                                                                                                                                                                                                                                                                                                                                                                                                                                                                                                                                                                                                                                                                                                                                                                                                                                                                                                                                                                                                                                                                                                                                                                                                                                                                                                                                                                                                                                                                                                                                                                                                                                      \n"
     ]
    },
    {
     "name": "stdout",
     "output_type": "stream",
     "text": [
      "       01              0101192021     11002021000001                 11 121 02 01012             2         52010880312223 21122211221223  1222108                                    141        111278805 007204112222211333888      10920200112      10155520420320110123                                                                                                              2         22222111111153                                                                                                                                                                                                                                                                      1001                                                                                                                                                                                                                                                                                                                                                                                                                                                                                                                                                                                                                                                                                                                                                                      11     101101139.7661577                             279.5323155     01         9                                                                                                                                                                                                       10.51901912874.242902                                                744.745531                                                                                                                                          2321921122221121                                                        0101  211112112706059150032661454111233112000100000111200000100005700430014010000110001000002141111001\n",
      "100000  19              0707262021     11002021005607 ...                                                                                                                                                                                                                                                                                                                                                                                                                                                                                                                                                                                                                                                                                                                                                                                                                                                                                                                                                                                                                                                                                                                                                                                                                                                                                                                                                                                                                                                                                                                                                                                                                                                                                                                                                                                                                                                                                                                                                                                                                                                                                                      \n",
      "100001  19              0707262021     11002021005608 ...                                                                                                                                                                                                                                                                                                                                                                                                                                                                                                                                                                                                                                                                                                                                                                                                                                                                                                                                                                                                                                                                                                                                                                                                                                                                                                                                                                                                                                                                                                                                                                                                                                                                                                                                                                                                                                                                                                                                                                                                                                                                                                      \n",
      "100002  19              0707152021     11002021005609 ...                                                                                                                                                                                                                                                                                                                                                                                                                                                                                                                                                                                                                                                                                                                                                                                                                                                                                                                                                                                                                                                                                                                                                                                                                                                                                                                                                                                                                                                                                                                                                                                                                                                                                                                                                                                                                                                                                                                                                                                                                                                                                                      \n",
      "100003  19              0708022021     11002021005610 ...                                                                                                                                                                                                                                                                                                                                                                                                                                                                                                                                                                                                                                                                                                                                                                                                                                                                                                                                                                                                                                                                                                                                                                                                                                                                                                                                                                                                                                                                                                                                                                                                                                                                                                                                                                                                                                                                                                                                                                                                                                                                                                      \n",
      "100004  19              0707152021     12002021005611 ...                                                                                                                                                                                                                                                                                                                                                                                                                                                                                                                                                                                                                                                                                                                                                                                                                                                                                                                                                                                                                                                                                                                                                                                                                                                                                                                                                                                                                                                                                                                                                                                                                                                                                                                                                                                                                                                                                                                                                                                                                                                                                                      \n"
     ]
    },
    {
     "name": "stdout",
     "output_type": "stream",
     "text": [
      "       01              0101192021     11002021000001                 11 121 02 01012             2         52010880312223 21122211221223  1222108                                    141        111278805 007204112222211333888      10920200112      10155520420320110123                                                                                                              2         22222111111153                                                                                                                                                                                                                                                                      1001                                                                                                                                                                                                                                                                                                                                                                                                                                                                                                                                                                                                                                                                                                                                                                      11     101101139.7661577                             279.5323155     01         9                                                                                                                                                                                                       10.51901912874.242902                                                744.745531                                                                                                                                          2321921122221121                                                        0101  211112112706059150032661454111233112000100000111200000100005700430014010000110001000002141111001\n",
      "200000  29              1112062021     11002021003330 ...                                                                                                                                                                                                                                                                                                                                                                                                                                                                                                                                                                                                                                                                                                                                                                                                                                                                                                                                                                                                                                                                                                                                                                                                                                                                                                                                                                                                                                                                                                                                                                                                                                                                                                                                                                                                                                                                                                                                                                                                                                                                                                      \n",
      "200001  29              1212032021     11002021003331 ...                                                                                                                                                                                                                                                                                                                                                                                                                                                                                                                                                                                                                                                                                                                                                                                                                                                                                                                                                                                                                                                                                                                                                                                                                                                                                                                                                                                                                                                                                                                                                                                                                                                                                                                                                                                                                                                                                                                                                                                                                                                                                                      \n",
      "200002  29              1212082021     11002021003332 ...                                                                                                                                                                                                                                                                                                                                                                                                                                                                                                                                                                                                                                                                                                                                                                                                                                                                                                                                                                                                                                                                                                                                                                                                                                                                                                                                                                                                                                                                                                                                                                                                                                                                                                                                                                                                                                                                                                                                                                                                                                                                                                      \n",
      "200003  29              1212102021     11002021003333 ...                                                                                                                                                                                                                                                                                                                                                                                                                                                                                                                                                                                                                                                                                                                                                                                                                                                                                                                                                                                                                                                                                                                                                                                                                                                                                                                                                                                                                                                                                                                                                                                                                                                                                                                                                                                                                                                                                                                                                                                                                                                                                                      \n",
      "200004  29              1212092021     11002021003334 ...                                                                                                                                                                                                                                                                                                                                                                                                                                                                                                                                                                                                                                                                                                                                                                                                                                                                                                                                                                                                                                                                                                                                                                                                                                                                                                                                                                                                                                                                                                                                                                                                                                                                                                                                                                                                                                                                                                                                                                                                                                                                                                      \n"
     ]
    },
    {
     "name": "stdout",
     "output_type": "stream",
     "text": [
      "       01              0101192021     11002021000001                 11 121 02 01012             2         52010880312223 21122211221223  1222108                                    141        111278805 007204112222211333888      10920200112      10155520420320110123                                                                                                              2         22222111111153                                                                                                                                                                                                                                                                      1001                                                                                                                                                                                                                                                                                                                                                                                                                                                                                                                                                                                                                                                                                                                                                                      11     101101139.7661577                             279.5323155     01         9                                                                                                                                                                                                       10.51901912874.242902                                                744.745531                                                                                                                                          2321921122221121                                                        0101  211112112706059150032661454111233112000100000111200000100005700430014010000110001000002141111001\n",
      "300000  38              1011272021     11002021001963 ...                                                                                                                                                                                                                                                                                                                                                                                                                                                                                                                                                                                                                                                                                                                                                                                                                                                                                                                                                                                                                                                                                                                                                                                                                                                                                                                                                                                                                                                                                                                                                                                                                                                                                                                                                                                                                                                                                                                                                                                                                                                                                                      \n",
      "300001  38              1011272021     11002021001964 ...                                                                                                                                                                                                                                                                                                                                                                                                                                                                                                                                                                                                                                                                                                                                                                                                                                                                                                                                                                                                                                                                                                                                                                                                                                                                                                                                                                                                                                                                                                                                                                                                                                                                                                                                                                                                                                                                                                                                                                                                                                                                                                      \n",
      "300002  38              1012012021     11002021001965 ...                                                                                                                                                                                                                                                                                                                                                                                                                                                                                                                                                                                                                                                                                                                                                                                                                                                                                                                                                                                                                                                                                                                                                                                                                                                                                                                                                                                                                                                                                                                                                                                                                                                                                                                                                                                                                                                                                                                                                                                                                                                                                                      \n",
      "300003  38              1012042021     11002021001966 ...                                                                                                                                                                                                                                                                                                                                                                                                                                                                                                                                                                                                                                                                                                                                                                                                                                                                                                                                                                                                                                                                                                                                                                                                                                                                                                                                                                                                                                                                                                                                                                                                                                                                                                                                                                                                                                                                                                                                                                                                                                                                                                      \n",
      "300004  38              1012062021     11002021001967 ...                                                                                                                                                                                                                                                                                                                                                                                                                                                                                                                                                                                                                                                                                                                                                                                                                                                                                                                                                                                                                                                                                                                                                                                                                                                                                                                                                                                                                                                                                                                                                                                                                                                                                                                                                                                                                                                                                                                                                                                                                                                                                                      \n"
     ]
    },
    {
     "name": "stdout",
     "output_type": "stream",
     "text": [
      "       01              0101192021     11002021000001                 11 121 02 01012             2         52010880312223 21122211221223  1222108                                    141        111278805 007204112222211333888      10920200112      10155520420320110123                                                                                                              2         22222111111153                                                                                                                                                                                                                                                                      1001                                                                                                                                                                                                                                                                                                                                                                                                                                                                                                                                                                                                                                                                                                                                                                      11     101101139.7661577                             279.5323155     01         9                                                                                                                                                                                                       10.51901912874.242902                                                744.745531                                                                                                                                          2321921122221121                                                        0101  211112112706059150032661454111233112000100000111200000100005700430014010000110001000002141111001\n",
      "400000  51              0810142021     11002021008600 ...                                                                                                                                                                                                                                                                                                                                                                                                                                                                                                                                                                                                                                                                                                                                                                                                                                                                                                                                                                                                                                                                                                                                                                                                                                                                                                                                                                                                                                                                                                                                                                                                                                                                                                                                                                                                                                                                                                                                                                                                                                                                                                      \n",
      "400001  51              0810042021     11002021008601 ...                                                                                                                                                                                                                                                                                                                                                                                                                                                                                                                                                                                                                                                                                                                                                                                                                                                                                                                                                                                                                                                                                                                                                                                                                                                                                                                                                                                                                                                                                                                                                                                                                                                                                                                                                                                                                                                                                                                                                                                                                                                                                                      \n",
      "400002  51              0808102021     11002021008602 ...                                                                                                                                                                                                                                                                                                                                                                                                                                                                                                                                                                                                                                                                                                                                                                                                                                                                                                                                                                                                                                                                                                                                                                                                                                                                                                                                                                                                                                                                                                                                                                                                                                                                                                                                                                                                                                                                                                                                                                                                                                                                                                      \n",
      "400003  51              0808102021     12002021008603 ...                                                                                                                                                                                                                                                                                                                                                                                                                                                                                                                                                                                                                                                                                                                                                                                                                                                                                                                                                                                                                                                                                                                                                                                                                                                                                                                                                                                                                                                                                                                                                                                                                                                                                                                                                                                                                                                                                                                                                                                                                                                                                                      \n",
      "400004  51              0811062021     11002021008604 ...                                                                                                                                                                                                                                                                                                                                                                                                                                                                                                                                                                                                                                                                                                                                                                                                                                                                                                                                                                                                                                                                                                                                                                                                                                                                                                                                                                                                                                                                                                                                                                                                                                                                                                                                                                                                                                                                                                                                                                                                                                                                                                      \n"
     ]
    }
   ],
   "source": [
    "import pandas as pd\n",
    "\n",
    "chunk_size = 100000\n",
    "file_path = 'C:/Users/khazi/Downloads/asc csv.csv'\n",
    "\n",
    "chunks = pd.read_csv(file_path, chunksize=chunk_size)\n",
    "\n",
    "for chunk in chunks:\n",
    "    # Process each chunk as needed\n",
    "    # For example, you can perform operations on each chunk\n",
    "    # For demonstration, we'll just print the first few rows of each chunk\n",
    "    print(chunk.head())\n",
    "\n",
    "# After the loop, you can continue with any post-processing or analysis\n",
    "# that you need to perform on the aggregated data.\n"
   ]
  },
  {
   "cell_type": "code",
   "execution_count": 30,
   "id": "0bac9797",
   "metadata": {},
   "outputs": [
    {
     "name": "stderr",
     "output_type": "stream",
     "text": [
      "[LLCP2021.XPT] magic number mismatch\n",
      "[LLCP2021.XPT] magic number mismatch\n",
      "[LLCP2021.XPT] magic number mismatch\n",
      "[LLCP2021.XPT] magic number mismatch\n",
      "[LLCP2021.XPT] magic number mismatch\n",
      "[LLCP2021.XPT] magic number mismatch\n",
      "[LLCP2021.XPT] magic number mismatch\n",
      "[LLCP2021.XPT] magic number mismatch\n",
      "[LLCP2021.XPT] magic number mismatch\n",
      "[LLCP2021.XPT] Failed to read a meta data page from file\n",
      "[LLCP2021.XPT] Failed to read a meta data page from file\n",
      "[LLCP2021.XPT] Failed to read a meta data page from file\n",
      "[LLCP2021.XPT] Failed to read a meta data page from file\n",
      "[LLCP2021.XPT] Failed to read a meta data page from file\n",
      "[LLCP2021.XPT] Failed to read a meta data page from file\n",
      "[LLCP2021.XPT] Failed to read a meta data page from file\n",
      "[LLCP2021.XPT] Failed to read a meta data page from file\n",
      "[LLCP2021.XPT] Failed to read a meta data page from file\n"
     ]
    },
    {
     "name": "stdout",
     "output_type": "stream",
     "text": [
      "An error occurred: 'NoneType' object cannot be interpreted as an integer\n"
     ]
    }
   ],
   "source": [
    "    \n",
    "import pandas as pd\n",
    "from sas7bdat import SAS7BDAT\n",
    "\n",
    "xpt_file ='C:/Users/khazi/Downloads/LLCP2021.XPT'\n",
    "\n",
    "try:\n",
    "    with SAS7BDAT(xpt_file) as f:\n",
    "        df = f.to_data_frame()\n",
    "except Exception as e:\n",
    "    print(f\"An error occurred: {e}\")\n"
   ]
  },
  {
   "cell_type": "code",
   "execution_count": 25,
   "id": "6874def9",
   "metadata": {},
   "outputs": [
    {
     "name": "stderr",
     "output_type": "stream",
     "text": [
      "[LLCP2021.XPT] magic number mismatch\n",
      "[LLCP2021.XPT] magic number mismatch\n",
      "[LLCP2021.XPT] magic number mismatch\n",
      "[LLCP2021.XPT] magic number mismatch\n",
      "[LLCP2021.XPT] Failed to read a meta data page from file\n",
      "[LLCP2021.XPT] Failed to read a meta data page from file\n",
      "[LLCP2021.XPT] Failed to read a meta data page from file\n",
      "[LLCP2021.XPT] Failed to read a meta data page from file\n"
     ]
    },
    {
     "ename": "TypeError",
     "evalue": "'NoneType' object cannot be interpreted as an integer",
     "output_type": "error",
     "traceback": [
      "\u001b[1;31m---------------------------------------------------------------------------\u001b[0m",
      "\u001b[1;31mTypeError\u001b[0m                                 Traceback (most recent call last)",
      "\u001b[1;32m~\\AppData\\Local\\Temp\\ipykernel_37528\\1349052976.py\u001b[0m in \u001b[0;36m<module>\u001b[1;34m\u001b[0m\n\u001b[0;32m      8\u001b[0m \u001b[1;31m# Read the .xpt file and convert it to a Pandas DataFrame\u001b[0m\u001b[1;33m\u001b[0m\u001b[1;33m\u001b[0m\u001b[0m\n\u001b[0;32m      9\u001b[0m \u001b[1;32mwith\u001b[0m \u001b[0mSAS7BDAT\u001b[0m\u001b[1;33m(\u001b[0m\u001b[0mxpt_file\u001b[0m\u001b[1;33m)\u001b[0m \u001b[1;32mas\u001b[0m \u001b[0mf\u001b[0m\u001b[1;33m:\u001b[0m\u001b[1;33m\u001b[0m\u001b[1;33m\u001b[0m\u001b[0m\n\u001b[1;32m---> 10\u001b[1;33m     \u001b[0mdf\u001b[0m \u001b[1;33m=\u001b[0m \u001b[0mf\u001b[0m\u001b[1;33m.\u001b[0m\u001b[0mto_data_frame\u001b[0m\u001b[1;33m(\u001b[0m\u001b[1;33m)\u001b[0m\u001b[1;33m\u001b[0m\u001b[1;33m\u001b[0m\u001b[0m\n\u001b[0m\u001b[0;32m     11\u001b[0m \u001b[1;33m\u001b[0m\u001b[0m\n\u001b[0;32m     12\u001b[0m \u001b[1;31m# Save the DataFrame to a CSV file\u001b[0m\u001b[1;33m\u001b[0m\u001b[1;33m\u001b[0m\u001b[0m\n",
      "\u001b[1;32m~\\anaconda3\\lib\\site-packages\\sas7bdat.py\u001b[0m in \u001b[0;36mto_data_frame\u001b[1;34m(self)\u001b[0m\n\u001b[0;32m    721\u001b[0m         \"\"\"\n\u001b[0;32m    722\u001b[0m         \u001b[1;32mimport\u001b[0m \u001b[0mpandas\u001b[0m \u001b[1;32mas\u001b[0m \u001b[0mpd\u001b[0m\u001b[1;33m\u001b[0m\u001b[1;33m\u001b[0m\u001b[0m\n\u001b[1;32m--> 723\u001b[1;33m         \u001b[0mdata\u001b[0m \u001b[1;33m=\u001b[0m \u001b[0mlist\u001b[0m\u001b[1;33m(\u001b[0m\u001b[0mself\u001b[0m\u001b[1;33m.\u001b[0m\u001b[0mreadlines\u001b[0m\u001b[1;33m(\u001b[0m\u001b[1;33m)\u001b[0m\u001b[1;33m)\u001b[0m\u001b[1;33m\u001b[0m\u001b[1;33m\u001b[0m\u001b[0m\n\u001b[0m\u001b[0;32m    724\u001b[0m         \u001b[1;32mreturn\u001b[0m \u001b[0mpd\u001b[0m\u001b[1;33m.\u001b[0m\u001b[0mDataFrame\u001b[0m\u001b[1;33m(\u001b[0m\u001b[0mdata\u001b[0m\u001b[1;33m[\u001b[0m\u001b[1;36m1\u001b[0m\u001b[1;33m:\u001b[0m\u001b[1;33m]\u001b[0m\u001b[1;33m,\u001b[0m \u001b[0mcolumns\u001b[0m\u001b[1;33m=\u001b[0m\u001b[0mdata\u001b[0m\u001b[1;33m[\u001b[0m\u001b[1;36m0\u001b[0m\u001b[1;33m]\u001b[0m\u001b[1;33m)\u001b[0m\u001b[1;33m\u001b[0m\u001b[1;33m\u001b[0m\u001b[0m\n\u001b[0;32m    725\u001b[0m \u001b[1;33m\u001b[0m\u001b[0m\n",
      "\u001b[1;32m~\\anaconda3\\lib\\site-packages\\sas7bdat.py\u001b[0m in \u001b[0;36mreadlines\u001b[1;34m(self)\u001b[0m\n\u001b[0;32m    510\u001b[0m                    for x in self.columns]\n\u001b[0;32m    511\u001b[0m         \u001b[1;32mif\u001b[0m \u001b[1;32mnot\u001b[0m \u001b[0mself\u001b[0m\u001b[1;33m.\u001b[0m\u001b[0mcached_page\u001b[0m\u001b[1;33m:\u001b[0m\u001b[1;33m\u001b[0m\u001b[1;33m\u001b[0m\u001b[0m\n\u001b[1;32m--> 512\u001b[1;33m             \u001b[0mself\u001b[0m\u001b[1;33m.\u001b[0m\u001b[0m_file\u001b[0m\u001b[1;33m.\u001b[0m\u001b[0mseek\u001b[0m\u001b[1;33m(\u001b[0m\u001b[0mself\u001b[0m\u001b[1;33m.\u001b[0m\u001b[0mproperties\u001b[0m\u001b[1;33m.\u001b[0m\u001b[0mheader_length\u001b[0m\u001b[1;33m)\u001b[0m\u001b[1;33m\u001b[0m\u001b[1;33m\u001b[0m\u001b[0m\n\u001b[0m\u001b[0;32m    513\u001b[0m             \u001b[0mself\u001b[0m\u001b[1;33m.\u001b[0m\u001b[0m_read_next_page\u001b[0m\u001b[1;33m(\u001b[0m\u001b[1;33m)\u001b[0m\u001b[1;33m\u001b[0m\u001b[1;33m\u001b[0m\u001b[0m\n\u001b[0;32m    514\u001b[0m         \u001b[1;32mwhile\u001b[0m \u001b[0mcurrent_row_in_file_index\u001b[0m \u001b[1;33m<\u001b[0m \u001b[0mrow_count\u001b[0m\u001b[1;33m:\u001b[0m\u001b[1;33m\u001b[0m\u001b[1;33m\u001b[0m\u001b[0m\n",
      "\u001b[1;31mTypeError\u001b[0m: 'NoneType' object cannot be interpreted as an integer"
     ]
    }
   ],
   "source": [
    "import pandas as pd\n",
    "from sas7bdat import SAS7BDAT\n",
    "\n",
    "# Specify the paths for the .xpt and output .csv files\n",
    "\n",
    "csv_file = 'C:/Users/khazi/Downloads/xpt_csv.csv'\n",
    "\n",
    "# Read the .xpt file and convert it to a Pandas DataFrame\n",
    "with SAS7BDAT(xpt_file) as f:\n",
    "    df = f.to_data_frame()\n",
    "\n",
    "# Save the DataFrame to a CSV file\n",
    "df.to_csv(csv_file, index=False)\n",
    "\n",
    "print(f'{xpt_file} has been converted to {csv_file}.')\n"
   ]
  },
  {
   "cell_type": "code",
   "execution_count": null,
   "id": "c2f8acee",
   "metadata": {},
   "outputs": [],
   "source": []
  },
  {
   "cell_type": "code",
   "execution_count": 6,
   "id": "2b7ec3eb",
   "metadata": {},
   "outputs": [
    {
     "name": "stdout",
     "output_type": "stream",
     "text": [
      "         Year Locationabbr Locationdesc                Class  \\\n",
      "0        2012           GU         Guam         Demographics   \n",
      "1        2012           GU         Guam         Demographics   \n",
      "2        2022           AL      Alabama  Alcohol Consumption   \n",
      "3        2022           AL      Alabama  Alcohol Consumption   \n",
      "4        2022           AL      Alabama  Alcohol Consumption   \n",
      "...       ...          ...          ...                  ...   \n",
      "1048570  2015           WY      Wyoming         Demographics   \n",
      "1048571  2015           WY      Wyoming         Demographics   \n",
      "1048572  2015           PR  Puerto Rico        Health Status   \n",
      "1048573  2015           IL     Illinois         Demographics   \n",
      "1048574  2015           MN    Minnesota         Demographics   \n",
      "\n",
      "                       Topic  \\\n",
      "0                        Age   \n",
      "1                        Age   \n",
      "2        Alcohol Consumption   \n",
      "3        Alcohol Consumption   \n",
      "4        Alcohol Consumption   \n",
      "...                      ...   \n",
      "1048570   Number of Children   \n",
      "1048571    Disability status   \n",
      "1048572       Overall Health   \n",
      "1048573    Disability status   \n",
      "1048574                 Race   \n",
      "\n",
      "                                                  Question  \\\n",
      "0                                        What is your age?   \n",
      "1                                        What is your age?   \n",
      "2        Adults who have had at least one drink of alco...   \n",
      "3        Adults who have had at least one drink of alco...   \n",
      "4        Adults who have had at least one drink of alco...   \n",
      "...                                                    ...   \n",
      "1048570  How many children live in your household? (var...   \n",
      "1048571        Do you have difficulty doing errands alone?   \n",
      "1048572                        How is your general health?   \n",
      "1048573  Adults with health problem(s) that requires th...   \n",
      "1048574                       What is your race/ethnicity?   \n",
      "\n",
      "                         Response            Break_Out Break_Out_Category  \\\n",
      "0                     55-64 years              Overall            Overall   \n",
      "1                     35-44 years               Female             Gender   \n",
      "2                             Yes                18-24          Age Group   \n",
      "3                              No                18-24          Age Group   \n",
      "4                             Yes                25-34          Age Group   \n",
      "...                           ...                  ...                ...   \n",
      "1048570            Three children      $25,000-$34,999   Household Income   \n",
      "1048571                        No      $35,000-$49,999   Household Income   \n",
      "1048572                      Good  White, non-Hispanic     Race/Ethnicity   \n",
      "1048573                       Yes                18-24          Age Group   \n",
      "1048574  Other race, non-Hispanic      $25,000-$34,999   Household Income   \n",
      "\n",
      "        Sample_Size  ...                                Data_Value_Footnote  \\\n",
      "0               296  ...                                                NaN   \n",
      "1               272  ...                                                NaN   \n",
      "2                95  ...                                                NaN   \n",
      "3                84  ...                                                NaN   \n",
      "4               249  ...                                                NaN   \n",
      "...             ...  ...                                                ...   \n",
      "1048570           5  ...  Prevalence estimate not available if the unwei...   \n",
      "1048571         661  ...                                                NaN   \n",
      "1048572           9  ...  Prevalence estimate not available if the unwei...   \n",
      "1048573           6  ...  Prevalence estimate not available if the unwei...   \n",
      "1048574           3  ...  Prevalence estimate not available if the unwei...   \n",
      "\n",
      "         DataSource  ClassId  TopicId LocationID BreakoutID  \\\n",
      "0             BRFSS  CLASS05  Topic02         66        BO1   \n",
      "1             BRFSS  CLASS05  Topic02         66       SEX2   \n",
      "2             BRFSS  CLASS01  TOPIC03          1      AGE01   \n",
      "3             BRFSS  CLASS01  TOPIC03          1      AGE01   \n",
      "4             BRFSS  CLASS01  TOPIC03          1      AGE02   \n",
      "...             ...      ...      ...        ...        ...   \n",
      "1048570       BRFSS  CLASS05  TOPIC39         56    INCOME3   \n",
      "1048571       BRFSS  CLASS05  TOPIC19         56    INCOME4   \n",
      "1048572       BRFSS  CLASS08  TOPIC41         72     RACE01   \n",
      "1048573       BRFSS  CLASS05  TOPIC19         17      AGE01   \n",
      "1048574       BRFSS  CLASS05  TOPIC48         27    INCOME3   \n",
      "\n",
      "        BreakOutCategoryID QuestionID ResponseID  \\\n",
      "0                     CAT1        AGE    RESP014   \n",
      "1                     CAT2        AGE    RESP012   \n",
      "2                     CAT3   DRNKANY6    RESP046   \n",
      "3                     CAT3   DRNKANY6    RESP054   \n",
      "4                     CAT3   DRNKANY6    RESP046   \n",
      "...                    ...        ...        ...   \n",
      "1048570               CAT6   _CHLDCNT    RESP092   \n",
      "1048571               CAT6   DIFFALON    RESP054   \n",
      "1048572               CAT4    GENHLTH    RESP058   \n",
      "1048573               CAT3   USEEQUIP    RESP046   \n",
      "1048574               CAT6      RACE8    RESP199   \n",
      "\n",
      "                                     GeoLocation  \n",
      "0                        (13.444304, 144.793731)  \n",
      "1                        (13.444304, 144.793731)  \n",
      "2        (32.84057112200048, -86.63186076199969)  \n",
      "3        (32.84057112200048, -86.63186076199969)  \n",
      "4        (32.84057112200048, -86.63186076199969)  \n",
      "...                                          ...  \n",
      "1048570           (43.235541343, -108.109830353)  \n",
      "1048571           (43.235541343, -108.109830353)  \n",
      "1048572                  (18.220833, -66.590149)  \n",
      "1048573            (40.485010283, -88.997710178)  \n",
      "1048574            (46.355648736, -94.794200503)  \n",
      "\n",
      "[1048575 rows x 27 columns]\n"
     ]
    }
   ],
   "source": [
    "\n",
    "# Specify the path to the Excel file\n",
    "file_path = \"C:/Users/khazi/Downloads/CDC BRFSS DATA.csv\"\n",
    "\n",
    "# Read the Excel file into a DataFrame\n",
    "df = pd.read_csv(file_path)\n",
    "\n",
    "# Display the DataFrame\n",
    "print(df)\n"
   ]
  },
  {
   "cell_type": "code",
   "execution_count": 7,
   "id": "0b9ecab7",
   "metadata": {},
   "outputs": [
    {
     "name": "stdout",
     "output_type": "stream",
     "text": [
      "\n",
      "Column Names:\n",
      " ['Year', 'Locationabbr', 'Locationdesc', 'Class', 'Topic', 'Question', 'Response', 'Break_Out', 'Break_Out_Category', 'Sample_Size', 'Data_value', 'Confidence_limit_Low', 'Confidence_limit_High', 'Display_order', 'Data_value_unit', 'Data_value_type', 'Data_Value_Footnote_Symbol', 'Data_Value_Footnote', 'DataSource', 'ClassId', 'TopicId', 'LocationID', 'BreakoutID', 'BreakOutCategoryID', 'QuestionID', 'ResponseID', 'GeoLocation']\n"
     ]
    }
   ],
   "source": [
    "print('\\nColumn Names:\\n', list(df.columns))"
   ]
  },
  {
   "cell_type": "code",
   "execution_count": 8,
   "id": "b8ee7ebe",
   "metadata": {},
   "outputs": [
    {
     "name": "stdout",
     "output_type": "stream",
     "text": [
      "Total Records: 1048575\n",
      "Total Columns: 27\n"
     ]
    }
   ],
   "source": [
    "print('Total Records:', df.shape[0])\n",
    "print('Total Columns:', df.shape[1])"
   ]
  },
  {
   "cell_type": "code",
   "execution_count": null,
   "id": "d8e8db2c",
   "metadata": {},
   "outputs": [],
   "source": []
  }
 ],
 "metadata": {
  "kernelspec": {
   "display_name": "Python 3 (ipykernel)",
   "language": "python",
   "name": "python3"
  },
  "language_info": {
   "codemirror_mode": {
    "name": "ipython",
    "version": 3
   },
   "file_extension": ".py",
   "mimetype": "text/x-python",
   "name": "python",
   "nbconvert_exporter": "python",
   "pygments_lexer": "ipython3",
   "version": "3.9.13"
  }
 },
 "nbformat": 4,
 "nbformat_minor": 5
}
